{
 "cells": [
  {
   "cell_type": "code",
   "execution_count": 64,
   "id": "c63f0b57-06bc-4da1-821b-37dd39ed0345",
   "metadata": {},
   "outputs": [],
   "source": [
    "#importing libraries\n",
    "import gzip\n",
    "import json\n",
    "import pandas as pd"
   ]
  },
  {
   "cell_type": "code",
   "execution_count": 65,
   "id": "364bbc6c-30cc-46de-ae25-f89c7ac5cdb5",
   "metadata": {},
   "outputs": [
    {
     "name": "stdout",
     "output_type": "stream",
     "text": [
      "data Loaded 100000\n"
     ]
    },
    {
     "data": {
      "text/html": [
       "<div>\n",
       "<style scoped>\n",
       "    .dataframe tbody tr th:only-of-type {\n",
       "        vertical-align: middle;\n",
       "    }\n",
       "\n",
       "    .dataframe tbody tr th {\n",
       "        vertical-align: top;\n",
       "    }\n",
       "\n",
       "    .dataframe thead th {\n",
       "        text-align: right;\n",
       "    }\n",
       "</style>\n",
       "<table border=\"1\" class=\"dataframe\">\n",
       "  <thead>\n",
       "    <tr style=\"text-align: right;\">\n",
       "      <th></th>\n",
       "      <th>overall</th>\n",
       "      <th>vote</th>\n",
       "      <th>verified</th>\n",
       "      <th>reviewTime</th>\n",
       "      <th>reviewerID</th>\n",
       "      <th>asin</th>\n",
       "      <th>style</th>\n",
       "      <th>reviewerName</th>\n",
       "      <th>reviewText</th>\n",
       "      <th>summary</th>\n",
       "      <th>unixReviewTime</th>\n",
       "      <th>image</th>\n",
       "    </tr>\n",
       "  </thead>\n",
       "  <tbody>\n",
       "    <tr>\n",
       "      <th>0</th>\n",
       "      <td>5.0</td>\n",
       "      <td>67</td>\n",
       "      <td>True</td>\n",
       "      <td>09 18, 1999</td>\n",
       "      <td>AAP7PPBU72QFM</td>\n",
       "      <td>0151004714</td>\n",
       "      <td>{'Format:': ' Hardcover'}</td>\n",
       "      <td>D. C. Carrad</td>\n",
       "      <td>This is the best novel I have read in 2 or 3 y...</td>\n",
       "      <td>A star is born</td>\n",
       "      <td>937612800</td>\n",
       "      <td>NaN</td>\n",
       "    </tr>\n",
       "    <tr>\n",
       "      <th>1</th>\n",
       "      <td>3.0</td>\n",
       "      <td>5</td>\n",
       "      <td>True</td>\n",
       "      <td>10 23, 2013</td>\n",
       "      <td>A2E168DTVGE6SV</td>\n",
       "      <td>0151004714</td>\n",
       "      <td>{'Format:': ' Kindle Edition'}</td>\n",
       "      <td>Evy</td>\n",
       "      <td>Pages and pages of introspection, in the style...</td>\n",
       "      <td>A stream of consciousness novel</td>\n",
       "      <td>1382486400</td>\n",
       "      <td>NaN</td>\n",
       "    </tr>\n",
       "    <tr>\n",
       "      <th>2</th>\n",
       "      <td>5.0</td>\n",
       "      <td>4</td>\n",
       "      <td>False</td>\n",
       "      <td>09 2, 2008</td>\n",
       "      <td>A1ER5AYS3FQ9O3</td>\n",
       "      <td>0151004714</td>\n",
       "      <td>{'Format:': ' Paperback'}</td>\n",
       "      <td>Kcorn</td>\n",
       "      <td>This is the kind of novel to read when you hav...</td>\n",
       "      <td>I'm a huge fan of the author and this one did ...</td>\n",
       "      <td>1220313600</td>\n",
       "      <td>NaN</td>\n",
       "    </tr>\n",
       "    <tr>\n",
       "      <th>3</th>\n",
       "      <td>5.0</td>\n",
       "      <td>13</td>\n",
       "      <td>False</td>\n",
       "      <td>09 4, 2000</td>\n",
       "      <td>A1T17LMQABMBN5</td>\n",
       "      <td>0151004714</td>\n",
       "      <td>{'Format:': ' Hardcover'}</td>\n",
       "      <td>Caf Girl Writes</td>\n",
       "      <td>What gorgeous language! What an incredible wri...</td>\n",
       "      <td>The most beautiful book I have ever read!</td>\n",
       "      <td>968025600</td>\n",
       "      <td>NaN</td>\n",
       "    </tr>\n",
       "    <tr>\n",
       "      <th>4</th>\n",
       "      <td>3.0</td>\n",
       "      <td>8</td>\n",
       "      <td>True</td>\n",
       "      <td>02 4, 2000</td>\n",
       "      <td>A3QHJ0FXK33OBE</td>\n",
       "      <td>0151004714</td>\n",
       "      <td>{'Format:': ' Hardcover'}</td>\n",
       "      <td>W. Shane Schmidt</td>\n",
       "      <td>I was taken in by reviews that compared this b...</td>\n",
       "      <td>A dissenting view--In part.</td>\n",
       "      <td>949622400</td>\n",
       "      <td>NaN</td>\n",
       "    </tr>\n",
       "  </tbody>\n",
       "</table>\n",
       "</div>"
      ],
      "text/plain": [
       "   overall vote  verified   reviewTime      reviewerID        asin  \\\n",
       "0      5.0   67      True  09 18, 1999   AAP7PPBU72QFM  0151004714   \n",
       "1      3.0    5      True  10 23, 2013  A2E168DTVGE6SV  0151004714   \n",
       "2      5.0    4     False   09 2, 2008  A1ER5AYS3FQ9O3  0151004714   \n",
       "3      5.0   13     False   09 4, 2000  A1T17LMQABMBN5  0151004714   \n",
       "4      3.0    8      True   02 4, 2000  A3QHJ0FXK33OBE  0151004714   \n",
       "\n",
       "                            style      reviewerName  \\\n",
       "0       {'Format:': ' Hardcover'}      D. C. Carrad   \n",
       "1  {'Format:': ' Kindle Edition'}               Evy   \n",
       "2       {'Format:': ' Paperback'}             Kcorn   \n",
       "3       {'Format:': ' Hardcover'}   Caf Girl Writes   \n",
       "4       {'Format:': ' Hardcover'}  W. Shane Schmidt   \n",
       "\n",
       "                                          reviewText  \\\n",
       "0  This is the best novel I have read in 2 or 3 y...   \n",
       "1  Pages and pages of introspection, in the style...   \n",
       "2  This is the kind of novel to read when you hav...   \n",
       "3  What gorgeous language! What an incredible wri...   \n",
       "4  I was taken in by reviews that compared this b...   \n",
       "\n",
       "                                             summary  unixReviewTime image  \n",
       "0                                     A star is born       937612800   NaN  \n",
       "1                    A stream of consciousness novel      1382486400   NaN  \n",
       "2  I'm a huge fan of the author and this one did ...      1220313600   NaN  \n",
       "3          The most beautiful book I have ever read!       968025600   NaN  \n",
       "4                        A dissenting view--In part.       949622400   NaN  "
      ]
     },
     "execution_count": 65,
     "metadata": {},
     "output_type": "execute_result"
    }
   ],
   "source": [
    "#fetching data from json file\n",
    "data=[]\n",
    "max_records=100000\n",
    "with gzip.open('Electronics_5.json.gz','rt',encoding='latin1') as f:\n",
    "    for i,line in enumerate(f):\n",
    "        if i==max_records:\n",
    "            break\n",
    "        data.append(json.loads(line))\n",
    "    print(f\"data Loaded {len(data)}\")\n",
    "df=pd.DataFrame(data)\n",
    "df.head()"
   ]
  },
  {
   "cell_type": "code",
   "execution_count": 66,
   "id": "60f7c806-a398-467c-8bd6-e83acc085e69",
   "metadata": {},
   "outputs": [
    {
     "name": "stdout",
     "output_type": "stream",
     "text": [
      "<class 'pandas.core.frame.DataFrame'>\n",
      "RangeIndex: 100000 entries, 0 to 99999\n",
      "Data columns (total 12 columns):\n",
      " #   Column          Non-Null Count   Dtype  \n",
      "---  ------          --------------   -----  \n",
      " 0   overall         100000 non-null  float64\n",
      " 1   vote            17157 non-null   object \n",
      " 2   verified        100000 non-null  bool   \n",
      " 3   reviewTime      100000 non-null  object \n",
      " 4   reviewerID      100000 non-null  object \n",
      " 5   asin            100000 non-null  object \n",
      " 6   style           61750 non-null   object \n",
      " 7   reviewerName    99984 non-null   object \n",
      " 8   reviewText      99986 non-null   object \n",
      " 9   summary         99992 non-null   object \n",
      " 10  unixReviewTime  100000 non-null  int64  \n",
      " 11  image           1000 non-null    object \n",
      "dtypes: bool(1), float64(1), int64(1), object(9)\n",
      "memory usage: 8.5+ MB\n"
     ]
    }
   ],
   "source": [
    "#knowig the data\n",
    "df.info()"
   ]
  },
  {
   "cell_type": "code",
   "execution_count": 74,
   "id": "56b54ed9-ba3d-43cb-a0de-9ff1fa7868f0",
   "metadata": {},
   "outputs": [
    {
     "data": {
      "text/html": [
       "<div>\n",
       "<style scoped>\n",
       "    .dataframe tbody tr th:only-of-type {\n",
       "        vertical-align: middle;\n",
       "    }\n",
       "\n",
       "    .dataframe tbody tr th {\n",
       "        vertical-align: top;\n",
       "    }\n",
       "\n",
       "    .dataframe thead th {\n",
       "        text-align: right;\n",
       "    }\n",
       "</style>\n",
       "<table border=\"1\" class=\"dataframe\">\n",
       "  <thead>\n",
       "    <tr style=\"text-align: right;\">\n",
       "      <th></th>\n",
       "      <th>overall</th>\n",
       "      <th>vote</th>\n",
       "      <th>reviewTime</th>\n",
       "      <th>reviewerID</th>\n",
       "      <th>asin</th>\n",
       "      <th>reviewerName</th>\n",
       "      <th>reviewText</th>\n",
       "      <th>summary</th>\n",
       "    </tr>\n",
       "  </thead>\n",
       "  <tbody>\n",
       "    <tr>\n",
       "      <th>0</th>\n",
       "      <td>5.0</td>\n",
       "      <td>67.0</td>\n",
       "      <td>1999-09-18</td>\n",
       "      <td>AAP7PPBU72QFM</td>\n",
       "      <td>0151004714</td>\n",
       "      <td>D. C. Carrad</td>\n",
       "      <td>This is the best novel I have read in 2 or 3 y...</td>\n",
       "      <td>A star is born</td>\n",
       "    </tr>\n",
       "    <tr>\n",
       "      <th>1</th>\n",
       "      <td>3.0</td>\n",
       "      <td>5.0</td>\n",
       "      <td>2013-10-23</td>\n",
       "      <td>A2E168DTVGE6SV</td>\n",
       "      <td>0151004714</td>\n",
       "      <td>Evy</td>\n",
       "      <td>Pages and pages of introspection, in the style...</td>\n",
       "      <td>A stream of consciousness novel</td>\n",
       "    </tr>\n",
       "    <tr>\n",
       "      <th>2</th>\n",
       "      <td>5.0</td>\n",
       "      <td>4.0</td>\n",
       "      <td>2008-09-02</td>\n",
       "      <td>A1ER5AYS3FQ9O3</td>\n",
       "      <td>0151004714</td>\n",
       "      <td>Kcorn</td>\n",
       "      <td>This is the kind of novel to read when you hav...</td>\n",
       "      <td>I'm a huge fan of the author and this one did ...</td>\n",
       "    </tr>\n",
       "    <tr>\n",
       "      <th>3</th>\n",
       "      <td>5.0</td>\n",
       "      <td>13.0</td>\n",
       "      <td>2000-09-04</td>\n",
       "      <td>A1T17LMQABMBN5</td>\n",
       "      <td>0151004714</td>\n",
       "      <td>Caf Girl Writes</td>\n",
       "      <td>What gorgeous language! What an incredible wri...</td>\n",
       "      <td>The most beautiful book I have ever read!</td>\n",
       "    </tr>\n",
       "    <tr>\n",
       "      <th>4</th>\n",
       "      <td>3.0</td>\n",
       "      <td>8.0</td>\n",
       "      <td>2000-02-04</td>\n",
       "      <td>A3QHJ0FXK33OBE</td>\n",
       "      <td>0151004714</td>\n",
       "      <td>W. Shane Schmidt</td>\n",
       "      <td>I was taken in by reviews that compared this b...</td>\n",
       "      <td>A dissenting view--In part.</td>\n",
       "    </tr>\n",
       "  </tbody>\n",
       "</table>\n",
       "</div>"
      ],
      "text/plain": [
       "   overall  vote reviewTime      reviewerID        asin      reviewerName  \\\n",
       "0      5.0  67.0 1999-09-18   AAP7PPBU72QFM  0151004714      D. C. Carrad   \n",
       "1      3.0   5.0 2013-10-23  A2E168DTVGE6SV  0151004714               Evy   \n",
       "2      5.0   4.0 2008-09-02  A1ER5AYS3FQ9O3  0151004714             Kcorn   \n",
       "3      5.0  13.0 2000-09-04  A1T17LMQABMBN5  0151004714   Caf Girl Writes   \n",
       "4      3.0   8.0 2000-02-04  A3QHJ0FXK33OBE  0151004714  W. Shane Schmidt   \n",
       "\n",
       "                                          reviewText  \\\n",
       "0  This is the best novel I have read in 2 or 3 y...   \n",
       "1  Pages and pages of introspection, in the style...   \n",
       "2  This is the kind of novel to read when you hav...   \n",
       "3  What gorgeous language! What an incredible wri...   \n",
       "4  I was taken in by reviews that compared this b...   \n",
       "\n",
       "                                             summary  \n",
       "0                                     A star is born  \n",
       "1                    A stream of consciousness novel  \n",
       "2  I'm a huge fan of the author and this one did ...  \n",
       "3          The most beautiful book I have ever read!  \n",
       "4                        A dissenting view--In part.  "
      ]
     },
     "execution_count": 74,
     "metadata": {},
     "output_type": "execute_result"
    }
   ],
   "source": [
    "#dropping irrelevant columns\n",
    "df=df.drop(columns=['image','verified','style','unixReviewTime'],errors='ignore')\n",
    "df.head()"
   ]
  },
  {
   "cell_type": "code",
   "execution_count": 75,
   "id": "38a54f9d-9d16-4228-bebd-aa23166c98c3",
   "metadata": {},
   "outputs": [],
   "source": [
    "#dropping data with null values\n",
    "df=df.dropna(subset=['reviewerName','reviewText','summary'])"
   ]
  },
  {
   "cell_type": "code",
   "execution_count": 76,
   "id": "8fd59884-88da-4ef0-bd6c-7abd9e53815f",
   "metadata": {},
   "outputs": [
    {
     "name": "stdout",
     "output_type": "stream",
     "text": [
      "<class 'pandas.core.frame.DataFrame'>\n",
      "RangeIndex: 99963 entries, 0 to 99962\n",
      "Data columns (total 8 columns):\n",
      " #   Column        Non-Null Count  Dtype         \n",
      "---  ------        --------------  -----         \n",
      " 0   overall       99963 non-null  float64       \n",
      " 1   vote          99963 non-null  float64       \n",
      " 2   reviewTime    99963 non-null  datetime64[ns]\n",
      " 3   reviewerID    99963 non-null  object        \n",
      " 4   asin          99963 non-null  object        \n",
      " 5   reviewerName  99963 non-null  object        \n",
      " 6   reviewText    99963 non-null  object        \n",
      " 7   summary       99963 non-null  object        \n",
      "dtypes: datetime64[ns](1), float64(2), object(5)\n",
      "memory usage: 6.1+ MB\n"
     ]
    }
   ],
   "source": [
    "df.info()"
   ]
  },
  {
   "cell_type": "code",
   "execution_count": 77,
   "id": "12dec3f2-5e32-4d13-8899-a26a747a2a53",
   "metadata": {},
   "outputs": [
    {
     "name": "stdout",
     "output_type": "stream",
     "text": [
      "<class 'pandas.core.frame.DataFrame'>\n",
      "RangeIndex: 99963 entries, 0 to 99962\n",
      "Data columns (total 8 columns):\n",
      " #   Column        Non-Null Count  Dtype         \n",
      "---  ------        --------------  -----         \n",
      " 0   overall       99963 non-null  float64       \n",
      " 1   vote          99963 non-null  float64       \n",
      " 2   reviewTime    99963 non-null  datetime64[ns]\n",
      " 3   reviewerID    99963 non-null  object        \n",
      " 4   asin          99963 non-null  object        \n",
      " 5   reviewerName  99963 non-null  object        \n",
      " 6   reviewText    99963 non-null  object        \n",
      " 7   summary       99963 non-null  object        \n",
      "dtypes: datetime64[ns](1), float64(2), object(5)\n",
      "memory usage: 6.1+ MB\n"
     ]
    }
   ],
   "source": [
    "#changing the datatypes\n",
    "df['vote']=pd.to_numeric(df['vote'],errors='coerce')\n",
    "df['reviewTime']=pd.to_datetime(df['reviewTime'],errors='coerce')\n",
    "df.info()"
   ]
  },
  {
   "cell_type": "code",
   "execution_count": 78,
   "id": "88617bd3-d64f-457d-8ab3-76ebfd88431a",
   "metadata": {},
   "outputs": [
    {
     "name": "stdout",
     "output_type": "stream",
     "text": [
      "<class 'pandas.core.frame.DataFrame'>\n",
      "RangeIndex: 99963 entries, 0 to 99962\n",
      "Data columns (total 8 columns):\n",
      " #   Column        Non-Null Count  Dtype         \n",
      "---  ------        --------------  -----         \n",
      " 0   overall       99963 non-null  float64       \n",
      " 1   vote          99963 non-null  float64       \n",
      " 2   reviewTime    99963 non-null  datetime64[ns]\n",
      " 3   reviewerID    99963 non-null  object        \n",
      " 4   asin          99963 non-null  object        \n",
      " 5   reviewerName  99963 non-null  object        \n",
      " 6   reviewText    99963 non-null  object        \n",
      " 7   summary       99963 non-null  object        \n",
      "dtypes: datetime64[ns](1), float64(2), object(5)\n",
      "memory usage: 6.1+ MB\n"
     ]
    }
   ],
   "source": [
    "#replacing null values with 0 in vote column\n",
    "df['vote']=df['vote'].fillna(0)\n",
    "df=df.reset_index(drop=True)\n",
    "df.info()"
   ]
  },
  {
   "cell_type": "code",
   "execution_count": 79,
   "id": "8f4d56e6-8bf0-4367-8fd5-61202a0f42f7",
   "metadata": {},
   "outputs": [
    {
     "data": {
      "text/html": [
       "<div>\n",
       "<style scoped>\n",
       "    .dataframe tbody tr th:only-of-type {\n",
       "        vertical-align: middle;\n",
       "    }\n",
       "\n",
       "    .dataframe tbody tr th {\n",
       "        vertical-align: top;\n",
       "    }\n",
       "\n",
       "    .dataframe thead th {\n",
       "        text-align: right;\n",
       "    }\n",
       "</style>\n",
       "<table border=\"1\" class=\"dataframe\">\n",
       "  <thead>\n",
       "    <tr style=\"text-align: right;\">\n",
       "      <th></th>\n",
       "      <th>overall</th>\n",
       "      <th>vote</th>\n",
       "      <th>reviewTime</th>\n",
       "      <th>reviewerID</th>\n",
       "      <th>asin</th>\n",
       "      <th>reviewerName</th>\n",
       "      <th>reviewText</th>\n",
       "      <th>summary</th>\n",
       "    </tr>\n",
       "  </thead>\n",
       "  <tbody>\n",
       "    <tr>\n",
       "      <th>0</th>\n",
       "      <td>5.0</td>\n",
       "      <td>67.0</td>\n",
       "      <td>1999-09-18</td>\n",
       "      <td>AAP7PPBU72QFM</td>\n",
       "      <td>0151004714</td>\n",
       "      <td>D. C. Carrad</td>\n",
       "      <td>This is the best novel I have read in 2 or 3 y...</td>\n",
       "      <td>A star is born</td>\n",
       "    </tr>\n",
       "    <tr>\n",
       "      <th>1</th>\n",
       "      <td>3.0</td>\n",
       "      <td>5.0</td>\n",
       "      <td>2013-10-23</td>\n",
       "      <td>A2E168DTVGE6SV</td>\n",
       "      <td>0151004714</td>\n",
       "      <td>Evy</td>\n",
       "      <td>Pages and pages of introspection, in the style...</td>\n",
       "      <td>A stream of consciousness novel</td>\n",
       "    </tr>\n",
       "    <tr>\n",
       "      <th>2</th>\n",
       "      <td>5.0</td>\n",
       "      <td>4.0</td>\n",
       "      <td>2008-09-02</td>\n",
       "      <td>A1ER5AYS3FQ9O3</td>\n",
       "      <td>0151004714</td>\n",
       "      <td>Kcorn</td>\n",
       "      <td>This is the kind of novel to read when you hav...</td>\n",
       "      <td>I'm a huge fan of the author and this one did ...</td>\n",
       "    </tr>\n",
       "    <tr>\n",
       "      <th>3</th>\n",
       "      <td>5.0</td>\n",
       "      <td>13.0</td>\n",
       "      <td>2000-09-04</td>\n",
       "      <td>A1T17LMQABMBN5</td>\n",
       "      <td>0151004714</td>\n",
       "      <td>Caf Girl Writes</td>\n",
       "      <td>What gorgeous language! What an incredible wri...</td>\n",
       "      <td>The most beautiful book I have ever read!</td>\n",
       "    </tr>\n",
       "    <tr>\n",
       "      <th>4</th>\n",
       "      <td>3.0</td>\n",
       "      <td>8.0</td>\n",
       "      <td>2000-02-04</td>\n",
       "      <td>A3QHJ0FXK33OBE</td>\n",
       "      <td>0151004714</td>\n",
       "      <td>W. Shane Schmidt</td>\n",
       "      <td>I was taken in by reviews that compared this b...</td>\n",
       "      <td>A dissenting view--In part.</td>\n",
       "    </tr>\n",
       "  </tbody>\n",
       "</table>\n",
       "</div>"
      ],
      "text/plain": [
       "   overall  vote reviewTime      reviewerID        asin      reviewerName  \\\n",
       "0      5.0  67.0 1999-09-18   AAP7PPBU72QFM  0151004714      D. C. Carrad   \n",
       "1      3.0   5.0 2013-10-23  A2E168DTVGE6SV  0151004714               Evy   \n",
       "2      5.0   4.0 2008-09-02  A1ER5AYS3FQ9O3  0151004714             Kcorn   \n",
       "3      5.0  13.0 2000-09-04  A1T17LMQABMBN5  0151004714   Caf Girl Writes   \n",
       "4      3.0   8.0 2000-02-04  A3QHJ0FXK33OBE  0151004714  W. Shane Schmidt   \n",
       "\n",
       "                                          reviewText  \\\n",
       "0  This is the best novel I have read in 2 or 3 y...   \n",
       "1  Pages and pages of introspection, in the style...   \n",
       "2  This is the kind of novel to read when you hav...   \n",
       "3  What gorgeous language! What an incredible wri...   \n",
       "4  I was taken in by reviews that compared this b...   \n",
       "\n",
       "                                             summary  \n",
       "0                                     A star is born  \n",
       "1                    A stream of consciousness novel  \n",
       "2  I'm a huge fan of the author and this one did ...  \n",
       "3          The most beautiful book I have ever read!  \n",
       "4                        A dissenting view--In part.  "
      ]
     },
     "execution_count": 79,
     "metadata": {},
     "output_type": "execute_result"
    }
   ],
   "source": [
    "df.head()"
   ]
  },
  {
   "cell_type": "code",
   "execution_count": 82,
   "id": "5ae69fd7-4e59-494c-971e-0b9b91a2b990",
   "metadata": {},
   "outputs": [
    {
     "name": "stdout",
     "output_type": "stream",
     "text": [
      "CSV file saved\n"
     ]
    }
   ],
   "source": [
    "#Saving to csv file\n",
    "df.to_csv('Cleaned_csv_files/Electronics_cleaned_dataset.csv',index=False)\n",
    "print('CSV file saved')"
   ]
  },
  {
   "cell_type": "code",
   "execution_count": 133,
   "id": "55e7b473-3874-4838-babd-d8ff71f2d5bf",
   "metadata": {},
   "outputs": [
    {
     "name": "stdout",
     "output_type": "stream",
     "text": [
      "Loaded 300000\n"
     ]
    }
   ],
   "source": [
    "records=[]\n",
    "max_rows=300000\n",
    "with gzip.open('json_files/meta_Electronics.json.gz','rt') as f:\n",
    "    for i,line in enumerate(f):\n",
    "        if i>=max_rows:\n",
    "            break\n",
    "        records.append(json.loads(line))\n",
    "meta_df=pd.DataFrame(records)\n",
    "print(f'Loaded {len(meta_df)}') "
   ]
  },
  {
   "cell_type": "code",
   "execution_count": 134,
   "id": "cea73a70-5f1b-4cdd-a30d-c094ca514650",
   "metadata": {},
   "outputs": [],
   "source": [
    "#removed duplicate ids\n",
    "meta_df=meta_df.drop_duplicates(subset='asin')"
   ]
  },
  {
   "cell_type": "code",
   "execution_count": 143,
   "id": "efe5ad65-6939-4174-a7b9-78f9ae7ea2e1",
   "metadata": {},
   "outputs": [
    {
     "name": "stdout",
     "output_type": "stream",
     "text": [
      "CSV file saved\n"
     ]
    }
   ],
   "source": [
    "meta_df.to_csv('Cleaned_csv_files/meta_cleaned_dataset.csv',index=False)\n",
    "print('CSV file saved')"
   ]
  },
  {
   "cell_type": "code",
   "execution_count": 135,
   "id": "538e3395-bd7a-4fbf-ba87-d8da75b17c9e",
   "metadata": {},
   "outputs": [
    {
     "name": "stdout",
     "output_type": "stream",
     "text": [
      "1.0\n"
     ]
    }
   ],
   "source": [
    "merged_file=pd.merge(df,meta_df,on='asin',how='left')\n",
    "print(merged_file['title'].notna().mean())"
   ]
  },
  {
   "cell_type": "code",
   "execution_count": 136,
   "id": "c98be555-c644-4714-8c9c-909702d317e9",
   "metadata": {},
   "outputs": [
    {
     "data": {
      "text/plain": [
       "Index(['overall', 'vote', 'reviewTime', 'reviewerID', 'asin', 'reviewerName',\n",
       "       'reviewText', 'summary', 'category', 'title', 'brand', 'main_cat',\n",
       "       'price'],\n",
       "      dtype='object')"
      ]
     },
     "execution_count": 136,
     "metadata": {},
     "output_type": "execute_result"
    }
   ],
   "source": [
    "#deleted irrelevant columns\n",
    "merged_file=merged_file.drop(columns=['tech1','feature','rank','also_view','similar_item','imageURL','imageURLHighRes','description','date','fit','details','also_buy','tech2'],errors='ignore')\n",
    "merged_file.columns"
   ]
  },
  {
   "cell_type": "code",
   "execution_count": 137,
   "id": "17bb226c-c1ac-4a67-97b2-a903b76c226a",
   "metadata": {},
   "outputs": [
    {
     "name": "stdout",
     "output_type": "stream",
     "text": [
      "<class 'pandas.core.frame.DataFrame'>\n",
      "RangeIndex: 99963 entries, 0 to 99962\n",
      "Data columns (total 13 columns):\n",
      " #   Column        Non-Null Count  Dtype         \n",
      "---  ------        --------------  -----         \n",
      " 0   overall       99963 non-null  float64       \n",
      " 1   vote          99963 non-null  float64       \n",
      " 2   reviewTime    99963 non-null  datetime64[ns]\n",
      " 3   reviewerID    99963 non-null  object        \n",
      " 4   asin          99963 non-null  object        \n",
      " 5   reviewerName  99963 non-null  object        \n",
      " 6   reviewText    99963 non-null  object        \n",
      " 7   summary       99963 non-null  object        \n",
      " 8   category      99963 non-null  object        \n",
      " 9   title         99963 non-null  object        \n",
      " 10  brand         99963 non-null  object        \n",
      " 11  main_cat      99963 non-null  object        \n",
      " 12  price         99963 non-null  object        \n",
      "dtypes: datetime64[ns](1), float64(2), object(10)\n",
      "memory usage: 9.9+ MB\n"
     ]
    }
   ],
   "source": [
    "merged_file.info()"
   ]
  },
  {
   "cell_type": "code",
   "execution_count": 144,
   "id": "f04a01fa-f76c-471b-99d0-81215e536773",
   "metadata": {},
   "outputs": [
    {
     "data": {
      "text/html": [
       "<div>\n",
       "<style scoped>\n",
       "    .dataframe tbody tr th:only-of-type {\n",
       "        vertical-align: middle;\n",
       "    }\n",
       "\n",
       "    .dataframe tbody tr th {\n",
       "        vertical-align: top;\n",
       "    }\n",
       "\n",
       "    .dataframe thead th {\n",
       "        text-align: right;\n",
       "    }\n",
       "</style>\n",
       "<table border=\"1\" class=\"dataframe\">\n",
       "  <thead>\n",
       "    <tr style=\"text-align: right;\">\n",
       "      <th></th>\n",
       "      <th>overall</th>\n",
       "      <th>vote</th>\n",
       "      <th>reviewTime</th>\n",
       "      <th>reviewerID</th>\n",
       "      <th>asin</th>\n",
       "      <th>reviewerName</th>\n",
       "      <th>reviewText</th>\n",
       "      <th>summary</th>\n",
       "      <th>category</th>\n",
       "      <th>title</th>\n",
       "      <th>brand</th>\n",
       "      <th>main_cat</th>\n",
       "      <th>price</th>\n",
       "    </tr>\n",
       "  </thead>\n",
       "  <tbody>\n",
       "    <tr>\n",
       "      <th>0</th>\n",
       "      <td>5.0</td>\n",
       "      <td>67.0</td>\n",
       "      <td>1999-09-18</td>\n",
       "      <td>AAP7PPBU72QFM</td>\n",
       "      <td>0151004714</td>\n",
       "      <td>D. C. Carrad</td>\n",
       "      <td>This is the best novel I have read in 2 or 3 y...</td>\n",
       "      <td>A star is born</td>\n",
       "      <td>[Electronics, eBook Readers &amp; Accessories, eBo...</td>\n",
       "      <td>The Last Life: A Novel</td>\n",
       "      <td>Visit Amazon's Claire Messud Page</td>\n",
       "      <td>Books</td>\n",
       "      <td>13.81</td>\n",
       "    </tr>\n",
       "    <tr>\n",
       "      <th>1</th>\n",
       "      <td>3.0</td>\n",
       "      <td>5.0</td>\n",
       "      <td>2013-10-23</td>\n",
       "      <td>A2E168DTVGE6SV</td>\n",
       "      <td>0151004714</td>\n",
       "      <td>Evy</td>\n",
       "      <td>Pages and pages of introspection, in the style...</td>\n",
       "      <td>A stream of consciousness novel</td>\n",
       "      <td>[Electronics, eBook Readers &amp; Accessories, eBo...</td>\n",
       "      <td>The Last Life: A Novel</td>\n",
       "      <td>Visit Amazon's Claire Messud Page</td>\n",
       "      <td>Books</td>\n",
       "      <td>13.81</td>\n",
       "    </tr>\n",
       "  </tbody>\n",
       "</table>\n",
       "</div>"
      ],
      "text/plain": [
       "   overall  vote reviewTime      reviewerID        asin  reviewerName  \\\n",
       "0      5.0  67.0 1999-09-18   AAP7PPBU72QFM  0151004714  D. C. Carrad   \n",
       "1      3.0   5.0 2013-10-23  A2E168DTVGE6SV  0151004714           Evy   \n",
       "\n",
       "                                          reviewText  \\\n",
       "0  This is the best novel I have read in 2 or 3 y...   \n",
       "1  Pages and pages of introspection, in the style...   \n",
       "\n",
       "                           summary  \\\n",
       "0                   A star is born   \n",
       "1  A stream of consciousness novel   \n",
       "\n",
       "                                            category                   title  \\\n",
       "0  [Electronics, eBook Readers & Accessories, eBo...  The Last Life: A Novel   \n",
       "1  [Electronics, eBook Readers & Accessories, eBo...  The Last Life: A Novel   \n",
       "\n",
       "                               brand main_cat  price  \n",
       "0  Visit Amazon's Claire Messud Page    Books  13.81  \n",
       "1  Visit Amazon's Claire Messud Page    Books  13.81  "
      ]
     },
     "execution_count": 144,
     "metadata": {},
     "output_type": "execute_result"
    }
   ],
   "source": [
    "merged_file['price']=merged_file['price'].astype(str)\n",
    "merged_file['price']=merged_file['price'].str.replace(r'[^0-9.]','',regex=True)\n",
    "merged_file['price']=pd.to_numeric(merged_file['price'],errors='coerce')\n",
    "merged_file.head(2)"
   ]
  },
  {
   "cell_type": "code",
   "execution_count": 145,
   "id": "1a35ff01-ef40-4478-8719-6c78a95fab76",
   "metadata": {},
   "outputs": [
    {
     "name": "stdout",
     "output_type": "stream",
     "text": [
      "final CSV saved\n"
     ]
    }
   ],
   "source": [
    "#saving final dataset to be analysed\n",
    "merged_file.to_csv('Cleaned_csv_files/Final_electronics_metadata_dataset.csv',index=False)\n",
    "print(\"final CSV saved\")"
   ]
  }
 ],
 "metadata": {
  "kernelspec": {
   "display_name": "Python [conda env:base] *",
   "language": "python",
   "name": "conda-base-py"
  },
  "language_info": {
   "codemirror_mode": {
    "name": "ipython",
    "version": 3
   },
   "file_extension": ".py",
   "mimetype": "text/x-python",
   "name": "python",
   "nbconvert_exporter": "python",
   "pygments_lexer": "ipython3",
   "version": "3.12.4"
  }
 },
 "nbformat": 4,
 "nbformat_minor": 5
}
